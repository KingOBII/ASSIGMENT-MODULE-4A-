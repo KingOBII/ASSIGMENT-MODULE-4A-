{
 "cells": [
  {
   "cell_type": "code",
   "execution_count": 1,
   "id": "853b225a-fc61-4f1d-8722-85ae5e32f0eb",
   "metadata": {},
   "outputs": [
    {
     "ename": "SyntaxError",
     "evalue": "invalid character '”' (U+201D) (107339465.py, line 34)",
     "output_type": "error",
     "traceback": [
      "\u001b[1;36m  Cell \u001b[1;32mIn[1], line 34\u001b[1;36m\u001b[0m\n\u001b[1;33m    print(”Perceptron Confusion Matrix:\\n\",confusion_matrix(y_test, y_pred))\u001b[0m\n\u001b[1;37m          ^\u001b[0m\n\u001b[1;31mSyntaxError\u001b[0m\u001b[1;31m:\u001b[0m invalid character '”' (U+201D)\n"
     ]
    }
   ],
   "source": [
    "#Import required libraries\n",
    "from sklearn.datasets import load_iris\n",
    "from sklearn.linear_model import Perceptron\n",
    "from sklearn.model_selection import train_test_split\n",
    "from sklearn.metrics import accuracy_score\n",
    "from sklearn.metrics import confusion_matrix\n",
    "#Load the Iris dataset\n",
    "iris = load_iris()\n",
    "#View the iris data keys\n",
    "iris.keys()\n",
    "\n",
    "#it is a key of dictionary iris\n",
    "iris.target_names\n",
    "##Convert data and target into a data frame.\n",
    "#Extract the First 100 Features\n",
    "X = pd.DataFrame(data = iris.data[:100,:], columns = iris.feature_names)\n",
    "X.head(100) #Inspect the features\n",
    "#Target\n",
    "y = pd.DataFrame(data=iris.target[:100], columns = ['irisType'])\n",
    "y.head(100)\n",
    "# Split the dataset into training and testing sets\n",
    "X_train, X_test, y_train, y_test = train_test_split(X, y, test_size=0.2, random_state=42)\n",
    "\n",
    "# Create a Perceptron classifier\n",
    "mdlPercept = Perceptron()\n",
    "# Train the classifier\n",
    "mdlPercept.fit(X_train, y_train)\n",
    "# Make predictions on the test set\n",
    "y_pred = mdlPercept.predict(X_test)\n",
    "# Calculate accuracy of the classifier\n",
    "accuracy = accuracy_score(y_test, y_pred)\n",
    "print(\"Accuracy:\", accuracy)\n",
    "#Generate the Confusion Matrix\n",
    "print(”Perceptron Confusion Matrix:\\n\",confusion_matrix(y_test, y_pred))"
   ]
  },
  {
   "cell_type": "code",
   "execution_count": 7,
   "id": "cb297046-0cdd-4e43-b81b-adc38e10dcd3",
   "metadata": {},
   "outputs": [],
   "source": [
    "#Import required libraries\n",
    "import pandas as pd\n",
    "from sklearn.datasets import load_iris\n",
    "from sklearn.linear_model import Perceptron\n",
    "from sklearn.model_selection import train_test_split\n",
    "from sklearn.metrics import accuracy_score\n",
    "from sklearn.metrics import confusion_matrix"
   ]
  },
  {
   "cell_type": "code",
   "execution_count": 9,
   "id": "0db35f0e-9f2b-41ba-bc70-e3d1f76f3b7e",
   "metadata": {},
   "outputs": [
    {
     "name": "stdout",
     "output_type": "stream",
     "text": [
      "112\n"
     ]
    }
   ],
   "source": [
    "print ( 12%50 + 100)\n",
    "iris = load_iris()"
   ]
  },
  {
   "cell_type": "code",
   "execution_count": 10,
   "id": "07ee0b2a-dafb-499c-b67e-6804fd0e0ff4",
   "metadata": {},
   "outputs": [
    {
     "name": "stdout",
     "output_type": "stream",
     "text": [
      "Accuracy: 1.0\n",
      "Perceptron Confusion Matrix:\n",
      " [[13  0  0]\n",
      " [ 0  9  0]\n",
      " [ 0  0  1]]\n"
     ]
    },
    {
     "name": "stderr",
     "output_type": "stream",
     "text": [
      "C:\\Users\\KING-OBI\\AppData\\Local\\Programs\\Python\\Python312\\Lib\\site-packages\\sklearn\\utils\\validation.py:1300: DataConversionWarning: A column-vector y was passed when a 1d array was expected. Please change the shape of y to (n_samples, ), for example using ravel().\n",
      "  y = column_or_1d(y, warn=True)\n"
     ]
    }
   ],
   "source": [
    "iris.keys()\n",
    "#it is a key of dictionary iris\n",
    "iris.target_names\n",
    "##Convert data and target into a data frame.\n",
    "#Extract the First 1200 Features\n",
    "X = pd.DataFrame(data = iris.data[:112,:], columns = iris.feature_names)\n",
    "X.head(112) #Inspect the features\n",
    "#Target\n",
    "y = pd.DataFrame(data=iris.target[:112], columns = ['irisType'])\n",
    "y.head(112)\n",
    "# Split the dataset into training and testing sets\n",
    "X_train, X_test, y_train, y_test = train_test_split(X, y, test_size=0.2, random_state=42)\n",
    "\n",
    "# Create a Perceptron classifier\n",
    "mdlPercept = Perceptron()\n",
    "# Train the classifier\n",
    "mdlPercept.fit(X_train, y_train)\n",
    "# Make predictions on the test set\n",
    "y_pred = mdlPercept.predict(X_test)\n",
    "# Calculate accuracy of the classifier\n",
    "accuracy = accuracy_score(y_test, y_pred)\n",
    "print(\"Accuracy:\", accuracy)\n",
    "#Generate the Confusion Matrix\n",
    "print(\"Perceptron Confusion Matrix:\\n\",confusion_matrix(y_test, y_pred))"
   ]
  },
  {
   "cell_type": "code",
   "execution_count": null,
   "id": "fa3263ee-6ab7-4e6b-84fa-b39c53a0865f",
   "metadata": {},
   "outputs": [],
   "source": []
  }
 ],
 "metadata": {
  "kernelspec": {
   "display_name": "Python 3 (ipykernel)",
   "language": "python",
   "name": "python3"
  },
  "language_info": {
   "codemirror_mode": {
    "name": "ipython",
    "version": 3
   },
   "file_extension": ".py",
   "mimetype": "text/x-python",
   "name": "python",
   "nbconvert_exporter": "python",
   "pygments_lexer": "ipython3",
   "version": "3.12.2"
  }
 },
 "nbformat": 4,
 "nbformat_minor": 5
}
