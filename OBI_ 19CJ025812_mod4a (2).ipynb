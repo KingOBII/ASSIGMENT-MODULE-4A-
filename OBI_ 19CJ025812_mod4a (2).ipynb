{
 "cells": [
  {
   "cell_type": "code",
   "execution_count": null,
   "id": "29d7d7f5-c714-48da-9cc8-a30ca54cc1a6",
   "metadata": {},
   "outputs": [],
   "source": [
    "import pandas as pd\n",
    "import numpy as np\n",
    "import tensorflow as tf\n",
    "from sklearn.model_selection import train_test_split\n",
    "from sklearn.preprocessing import StandardScaler\n",
    "from tensorflow.keras.utils import to_categorical\n",
    "\n",
    "# Load your dataset\n",
    "df = pd.read_csv('Desktop/Housing.csv')\n",
    "\n",
    "# Preprocess your data\n",
    "# (e.g., handle missing values, convert categorical variables)\n",
    "df = pd.get_dummies(df, columns=['area', 'bedrooms'])  # assuming two categorical columns\n",
    "\n",
    "# Split your data into features (X) and target (y)\n",
    "X = df.drop('price', axis=1)  # assuming 'price' is the target column\n",
    "y = df['price']\n",
    "\n",
    "# One-hot encode the target column\n",
    "# y = to_categorical(y)\n",
    "\n",
    "# Split your data into training and testing sets\n",
    "X_train, X_test, y_train, y_test = train_test_split(X, y, test_size=0.2, random_state=42)\n",
    "\n",
    "# Scale your data using StandardScaler\n",
    "scaler = StandardScaler()\n",
    "X_train = scaler.fit_transform(X_train)\n",
    "X_test = scaler.transform(X_test)\n",
    "\n",
    "# Build your TensorFlow model\n",
    "model = tf.keras.models.Sequential([\n",
    "    tf.keras.layers.Dense(64, activation='relu', input_shape=(X.shape[1],)),\n",
    "    tf.keras.layers.Dense(64, activation='relu'),\n",
    "    tf.keras.layers.Dense(2, activation='softmax')  # assuming two classes (houses)\n",
    "])\n",
    "\n",
    "# Compile your model\n",
    "model.compile(optimizer='adam', loss='categorical_crossentropy', metrics=['accuracy'])\n",
    "\n",
    "# Train your model\n",
    "model.fit(X_train, y_train, epochs=4, validation_data=(X_test, y_test), verbose=2)\n",
    "\n",
    "# Evaluate your model\n",
    "loss, accuracy = model.evaluate(X_test, y_test)\n",
    "print(f'Test loss: {loss:.3f}, Test accuracy: {accuracy:.3f}')\n",
    "\n",
    "# Use your model for predictions\n",
    "new_data = ...  # assuming 'new_data' is your input data\n",
    "new_data = scaler.transform(new_data)  # scale the new data\n",
    "predictions = model.predict(new_data)"
   ]
  }
 ],
 "metadata": {
  "kernelspec": {
   "display_name": "Python 3 (ipykernel)",
   "language": "python",
   "name": "python3"
  },
  "language_info": {
   "codemirror_mode": {
    "name": "ipython",
    "version": 3
   },
   "file_extension": ".py",
   "mimetype": "text/x-python",
   "name": "python",
   "nbconvert_exporter": "python",
   "pygments_lexer": "ipython3",
   "version": "3.12.2"
  }
 },
 "nbformat": 4,
 "nbformat_minor": 5
}
